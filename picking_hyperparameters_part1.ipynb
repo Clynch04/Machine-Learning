{
 "cells": [
  {
   "attachments": {},
   "cell_type": "markdown",
   "metadata": {},
   "source": [
    "#### Instructions:\n",
    "##### Running a coding exercise for the first time could take a bit of time for everything to load. Be patient, it could take a few minutes.\n",
    "\n",
    "##### When you see ____ in a coding exercise, replace it with what you assume to be the correct code. Run it and see if you obtain the desired output. Submit your code to validate if you were correct.\n",
    "\n",
    "##### Make sure you remove the hash (#) symbol in the coding portions of this question. We have commented them so that the line won’t execute and you can test your code after each step.\n",
    "\n",
    "##### Let’s take a look at the basketball dataset we saw in exercise 16. We will again be using features height, weight and salary and a target column position.. This time , however, let’s cross-validate on different values for max_depth so we can set this hyperparameter and build a final model that best generalizes on our test set.\n",
    "\n",
    "##### First let’s see which hyperparameter is the most optimal.\n",
    "\n",
    "#### Tasks:\n",
    "\n",
    "##### Fill in the code below.\n",
    "##### We are first loading in our bball.csv dataset and assigning our features to X and our target position to an object named y.\n",
    "##### Fill in the code so that it split the dataset into X_train, X_test, y_train, y_test. Make sure to use a 20% test set and a random_state=33 so we can verify you solution.\n",
    "##### Next, fill in the code so that a for loop does the following:\n",
    "\n",
    "##### iterates over the values 1-20.\n",
    "##### Builds a decision tree classifier with a max_depth equal to each iteration.\n",
    "##### Uses cross_validate on the model with a cv=10 and return_train_score=True.\n",
    "##### Appends the depth value to the depth list in the dictionary results_dict.\n",
    "##### Appends the test_score to the mean_cv_score list in the dictionary.\n",
    "##### Appends the train_score to the mean_train_score list in the dictionary.\n",
    "##### We have given you code that wrangles this dictionary and transforms it into a state ready for plotting.\n",
    "##### Finish off by filling in the blank to create a line graph that plots the train and validation scores for each depth value. (Note: we have edited the limits of the y-axis so it’s easier to read)\n"
   ]
  },
  {
   "cell_type": "code",
   "execution_count": 3,
   "metadata": {},
   "outputs": [],
   "source": [
    "import pandas as pd\n",
    "import altair as alt\n",
    "from sklearn.tree import DecisionTreeClassifier\n",
    "from sklearn.model_selection import train_test_split, cross_validate"
   ]
  },
  {
   "attachments": {},
   "cell_type": "markdown",
   "metadata": {},
   "source": [
    "##### Loading in the data"
   ]
  },
  {
   "cell_type": "code",
   "execution_count": 4,
   "metadata": {},
   "outputs": [],
   "source": [
    "bball_df = pd.read_csv('bball.csv')\n",
    "bball_df = bball_df[(bball_df['position'] =='G') | (bball_df['position'] =='F')]"
   ]
  },
  {
   "attachments": {},
   "cell_type": "markdown",
   "metadata": {},
   "source": [
    "##### Define X and y"
   ]
  },
  {
   "cell_type": "code",
   "execution_count": 6,
   "metadata": {},
   "outputs": [],
   "source": [
    "X = bball_df.loc[:, ['height', 'weight', 'salary']]\n",
    "y = bball_df['position']"
   ]
  },
  {
   "attachments": {},
   "cell_type": "markdown",
   "metadata": {},
   "source": [
    "##### Split the dataset"
   ]
  },
  {
   "attachments": {},
   "cell_type": "markdown",
   "metadata": {},
   "source": [
    "Fill in the code so that it split the dataset into X_train, X_test, y_train, y_test. Make sure to use a 20% test set and a random_state=33 so we can verify you solution."
   ]
  },
  {
   "cell_type": "code",
   "execution_count": 7,
   "metadata": {},
   "outputs": [],
   "source": [
    "X_train, X_test, y_train, y_test = train_test_split(\n",
    "    X, y, test_size=.2, random_state=33)\n",
    "\n",
    "results_dict = {\"depth\": [], \"mean_train_score\": [], \"mean_cv_score\": []}"
   ]
  },
  {
   "attachments": {},
   "cell_type": "markdown",
   "metadata": {},
   "source": [
    "##### Create a for loop and fill in the blanks"
   ]
  },
  {
   "attachments": {},
   "cell_type": "markdown",
   "metadata": {},
   "source": [
    "Fill in the code so that a for loop does the following:\n",
    "\n",
    "iterates over the values 1-20.\n",
    "\n",
    "Builds a decision tree classifier with a max_depth equal to each iteration.\n",
    "\n",
    "Uses cross_validate on the model with a cv=10 and return_train_score=True.\n",
    "\n",
    "Appends the depth value to the depth list in the dictionary results_dict.\n",
    "\n",
    "Appends the test_score to the mean_cv_score list in the dictionary.\n",
    "\n",
    "Appends the train_score to the mean_train_score list in the dictionary.\n"
   ]
  },
  {
   "cell_type": "code",
   "execution_count": 8,
   "metadata": {},
   "outputs": [],
   "source": [
    "for depth in range(1,20):\n",
    "    model = DecisionTreeClassifier(max_depth=depth)\n",
    "    scores = cross_validate(model, X_train, y_train, cv=10, return_train_score=True)\n",
    "    results_dict[\"depth\"].append(depth)\n",
    "    results_dict[\"mean_cv_score\"].append(scores[\"test_score\"].mean())\n",
    "    results_dict[\"mean_train_score\"].append(scores[\"train_score\"].mean())"
   ]
  },
  {
   "attachments": {},
   "cell_type": "markdown",
   "metadata": {},
   "source": [
    "#### Wrangles the data into a form suitable for plotting "
   ]
  },
  {
   "cell_type": "code",
   "execution_count": 9,
   "metadata": {},
   "outputs": [],
   "source": [
    "results_df = pd.DataFrame(results_dict).melt(id_vars=['depth'],\n",
    "value_vars=['mean_train_score','mean_cv_score'],var_name='split', value_name='score')"
   ]
  },
  {
   "attachments": {},
   "cell_type": "markdown",
   "metadata": {},
   "source": [
    "##### Create a chart that plots depth vs score"
   ]
  },
  {
   "cell_type": "code",
   "execution_count": 10,
   "metadata": {},
   "outputs": [
    {
     "data": {
      "text/html": [
       "\n",
       "<style>\n",
       "  #altair-viz-5400ae9d63324e20aa47daa5b87fac69.vega-embed {\n",
       "    width: 100%;\n",
       "    display: flex;\n",
       "  }\n",
       "\n",
       "  #altair-viz-5400ae9d63324e20aa47daa5b87fac69.vega-embed details,\n",
       "  #altair-viz-5400ae9d63324e20aa47daa5b87fac69.vega-embed details summary {\n",
       "    position: relative;\n",
       "  }\n",
       "</style>\n",
       "<div id=\"altair-viz-5400ae9d63324e20aa47daa5b87fac69\"></div>\n",
       "<script type=\"text/javascript\">\n",
       "  var VEGA_DEBUG = (typeof VEGA_DEBUG == \"undefined\") ? {} : VEGA_DEBUG;\n",
       "  (function(spec, embedOpt){\n",
       "    let outputDiv = document.currentScript.previousElementSibling;\n",
       "    if (outputDiv.id !== \"altair-viz-5400ae9d63324e20aa47daa5b87fac69\") {\n",
       "      outputDiv = document.getElementById(\"altair-viz-5400ae9d63324e20aa47daa5b87fac69\");\n",
       "    }\n",
       "    const paths = {\n",
       "      \"vega\": \"https://cdn.jsdelivr.net/npm/vega@5?noext\",\n",
       "      \"vega-lib\": \"https://cdn.jsdelivr.net/npm/vega-lib?noext\",\n",
       "      \"vega-lite\": \"https://cdn.jsdelivr.net/npm/vega-lite@5.20.1?noext\",\n",
       "      \"vega-embed\": \"https://cdn.jsdelivr.net/npm/vega-embed@6?noext\",\n",
       "    };\n",
       "\n",
       "    function maybeLoadScript(lib, version) {\n",
       "      var key = `${lib.replace(\"-\", \"\")}_version`;\n",
       "      return (VEGA_DEBUG[key] == version) ?\n",
       "        Promise.resolve(paths[lib]) :\n",
       "        new Promise(function(resolve, reject) {\n",
       "          var s = document.createElement('script');\n",
       "          document.getElementsByTagName(\"head\")[0].appendChild(s);\n",
       "          s.async = true;\n",
       "          s.onload = () => {\n",
       "            VEGA_DEBUG[key] = version;\n",
       "            return resolve(paths[lib]);\n",
       "          };\n",
       "          s.onerror = () => reject(`Error loading script: ${paths[lib]}`);\n",
       "          s.src = paths[lib];\n",
       "        });\n",
       "    }\n",
       "\n",
       "    function showError(err) {\n",
       "      outputDiv.innerHTML = `<div class=\"error\" style=\"color:red;\">${err}</div>`;\n",
       "      throw err;\n",
       "    }\n",
       "\n",
       "    function displayChart(vegaEmbed) {\n",
       "      vegaEmbed(outputDiv, spec, embedOpt)\n",
       "        .catch(err => showError(`Javascript Error: ${err.message}<br>This usually means there's a typo in your chart specification. See the javascript console for the full traceback.`));\n",
       "    }\n",
       "\n",
       "    if(typeof define === \"function\" && define.amd) {\n",
       "      requirejs.config({paths});\n",
       "      require([\"vega-embed\"], displayChart, err => showError(`Error loading script: ${err.message}`));\n",
       "    } else {\n",
       "      maybeLoadScript(\"vega\", \"5\")\n",
       "        .then(() => maybeLoadScript(\"vega-lite\", \"5.20.1\"))\n",
       "        .then(() => maybeLoadScript(\"vega-embed\", \"6\"))\n",
       "        .catch(showError)\n",
       "        .then(() => displayChart(vegaEmbed));\n",
       "    }\n",
       "  })({\"config\": {\"view\": {\"continuousWidth\": 300, \"continuousHeight\": 300}}, \"data\": {\"name\": \"data-ed5d7fd4b526c783e691cb1871c8a3ae\"}, \"mark\": {\"type\": \"line\"}, \"encoding\": {\"color\": {\"field\": \"split\", \"scale\": {\"domain\": [\"mean_train_score\", \"mean_cv_score\"], \"range\": [\"teal\", \"gold\"]}, \"type\": \"nominal\"}, \"x\": {\"axis\": {\"title\": \"Tree Depth\"}, \"field\": \"depth\", \"type\": \"quantitative\"}, \"y\": {\"field\": \"score\", \"scale\": {\"domain\": [0.8, 1.0]}, \"type\": \"quantitative\"}}, \"$schema\": \"https://vega.github.io/schema/vega-lite/v5.20.1.json\", \"datasets\": {\"data-ed5d7fd4b526c783e691cb1871c8a3ae\": [{\"depth\": 1, \"split\": \"mean_train_score\", \"score\": 0.8816351295763061}, {\"depth\": 2, \"split\": \"mean_train_score\", \"score\": 0.8966022213081036}, {\"depth\": 3, \"split\": \"mean_train_score\", \"score\": 0.9233566433566434}, {\"depth\": 4, \"split\": \"mean_train_score\", \"score\": 0.9473899629781982}, {\"depth\": 5, \"split\": \"mean_train_score\", \"score\": 0.9600884409707939}, {\"depth\": 6, \"split\": \"mean_train_score\", \"score\": 0.9755121349238995}, {\"depth\": 7, \"split\": \"mean_train_score\", \"score\": 0.9872994652406417}, {\"depth\": 8, \"split\": \"mean_train_score\", \"score\": 0.997280954339778}, {\"depth\": 9, \"split\": \"mean_train_score\", \"score\": 0.9995475113122172}, {\"depth\": 10, \"split\": \"mean_train_score\", \"score\": 1.0}, {\"depth\": 11, \"split\": \"mean_train_score\", \"score\": 1.0}, {\"depth\": 12, \"split\": \"mean_train_score\", \"score\": 1.0}, {\"depth\": 13, \"split\": \"mean_train_score\", \"score\": 1.0}, {\"depth\": 14, \"split\": \"mean_train_score\", \"score\": 1.0}, {\"depth\": 15, \"split\": \"mean_train_score\", \"score\": 1.0}, {\"depth\": 16, \"split\": \"mean_train_score\", \"score\": 1.0}, {\"depth\": 17, \"split\": \"mean_train_score\", \"score\": 1.0}, {\"depth\": 18, \"split\": \"mean_train_score\", \"score\": 1.0}, {\"depth\": 19, \"split\": \"mean_train_score\", \"score\": 1.0}, {\"depth\": 1, \"split\": \"mean_cv_score\", \"score\": 0.8818333333333334}, {\"depth\": 2, \"split\": \"mean_cv_score\", \"score\": 0.857}, {\"depth\": 3, \"split\": \"mean_cv_score\", \"score\": 0.8695}, {\"depth\": 4, \"split\": \"mean_cv_score\", \"score\": 0.8935000000000001}, {\"depth\": 5, \"split\": \"mean_cv_score\", \"score\": 0.8728333333333333}, {\"depth\": 6, \"split\": \"mean_cv_score\", \"score\": 0.8446666666666667}, {\"depth\": 7, \"split\": \"mean_cv_score\", \"score\": 0.8404999999999999}, {\"depth\": 8, \"split\": \"mean_cv_score\", \"score\": 0.8490000000000002}, {\"depth\": 9, \"split\": \"mean_cv_score\", \"score\": 0.8488333333333333}, {\"depth\": 10, \"split\": \"mean_cv_score\", \"score\": 0.8323333333333334}, {\"depth\": 11, \"split\": \"mean_cv_score\", \"score\": 0.8443333333333334}, {\"depth\": 12, \"split\": \"mean_cv_score\", \"score\": 0.8446666666666666}, {\"depth\": 13, \"split\": \"mean_cv_score\", \"score\": 0.8405000000000001}, {\"depth\": 14, \"split\": \"mean_cv_score\", \"score\": 0.8443333333333334}, {\"depth\": 15, \"split\": \"mean_cv_score\", \"score\": 0.8568333333333333}, {\"depth\": 16, \"split\": \"mean_cv_score\", \"score\": 0.8443333333333334}, {\"depth\": 17, \"split\": \"mean_cv_score\", \"score\": 0.8406666666666667}, {\"depth\": 18, \"split\": \"mean_cv_score\", \"score\": 0.8403333333333333}, {\"depth\": 19, \"split\": \"mean_cv_score\", \"score\": 0.8361666666666666}]}}, {\"mode\": \"vega-lite\"});\n",
       "</script>"
      ],
      "text/plain": [
       "alt.Chart(...)"
      ]
     },
     "execution_count": 10,
     "metadata": {},
     "output_type": "execute_result"
    }
   ],
   "source": [
    "chart1 = alt.Chart(results_df).mark_line().encode(alt.X('depth:Q', axis=alt.Axis(title=\"Tree Depth\")), alt.Y('score:Q', scale=alt.Scale(domain=[.80, 1.00])), alt.Color('split:N', scale=alt.Scale(domain=['mean_train_score','mean_cv_score'], range=['teal', 'gold'])))\n",
    "chart1"
   ]
  },
  {
   "attachments": {},
   "cell_type": "markdown",
   "metadata": {},
   "source": [
    "Question 1\n",
    "To which depth would you set your max_depth hyperparameter?\n",
    "\n",
    "(A) 1\n",
    "\n",
    "(B) 4\n",
    "\n",
    "(C) 8\n",
    "\n",
    "(D) 17"
   ]
  },
  {
   "attachments": {},
   "cell_type": "markdown",
   "metadata": {},
   "source": [
    "Answer: (B) 4"
   ]
  },
  {
   "attachments": {},
   "cell_type": "markdown",
   "metadata": {},
   "source": [
    "Question 2\n",
    "Are we obeying the golden rule of machine learing?\n",
    "\n",
    "(A) Yes\n",
    "\n",
    "(B) No"
   ]
  },
  {
   "attachments": {},
   "cell_type": "markdown",
   "metadata": {},
   "source": [
    "Answer: (A) Yes"
   ]
  }
 ],
 "metadata": {
  "kernelspec": {
   "display_name": "Python 3",
   "language": "python",
   "name": "python3"
  },
  "language_info": {
   "codemirror_mode": {
    "name": "ipython",
    "version": 3
   },
   "file_extension": ".py",
   "mimetype": "text/x-python",
   "name": "python",
   "nbconvert_exporter": "python",
   "pygments_lexer": "ipython3",
   "version": "3.12.5"
  },
  "orig_nbformat": 4,
  "vscode": {
   "interpreter": {
    "hash": "11938c6bc6919ae2720b4d5011047913343b08a43b18698fd82dedb0d4417594"
   }
  }
 },
 "nbformat": 4,
 "nbformat_minor": 2
}
