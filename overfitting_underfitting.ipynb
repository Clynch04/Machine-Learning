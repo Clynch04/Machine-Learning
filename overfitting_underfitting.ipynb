{
 "cells": [
  {
   "attachments": {},
   "cell_type": "markdown",
   "metadata": {},
   "source": [
    "#### Instructions:\n",
    "##### Running a coding exercise for the first time could take a bit of time for everything to load. Be patient, it could take a few minutes.\n",
    "\n",
    "##### When you see ____ in a coding exercise, replace it with what you assume to be the correct code. Run it and see if you obtain the desired output. Submit your code to validate if you were correct.\n",
    "\n",
    "##### Make sure you remove the hash (#) symbol in the coding portions of this question. We have commented them so that the line won’t execute and you can test your code after each step.\n",
    "\n",
    "##### Let’s examine our validation scores and training scores a bit more carefully and assess if our model is underfitting or overfitting.\n",
    "\n",
    "##### This time we are looking at a new data set that contains the basketball players in the NBA. We are only going to use the players with a position of Guard (G) or Forward (F). We will be using features height, weight and salary to try to predict the player’s position, Guard or Forward.\n",
    "\n",
    "##### Let’s take a quick look at it before diving in."
   ]
  },
  {
   "cell_type": "code",
   "execution_count": 1,
   "metadata": {},
   "outputs": [
    {
     "data": {
      "text/html": [
       "<div>\n",
       "<style scoped>\n",
       "    .dataframe tbody tr th:only-of-type {\n",
       "        vertical-align: middle;\n",
       "    }\n",
       "\n",
       "    .dataframe tbody tr th {\n",
       "        vertical-align: top;\n",
       "    }\n",
       "\n",
       "    .dataframe thead th {\n",
       "        text-align: right;\n",
       "    }\n",
       "</style>\n",
       "<table border=\"1\" class=\"dataframe\">\n",
       "  <thead>\n",
       "    <tr style=\"text-align: right;\">\n",
       "      <th></th>\n",
       "      <th>full_name</th>\n",
       "      <th>rating</th>\n",
       "      <th>jersey</th>\n",
       "      <th>team</th>\n",
       "      <th>position</th>\n",
       "      <th>b_day</th>\n",
       "      <th>height</th>\n",
       "      <th>weight</th>\n",
       "      <th>salary</th>\n",
       "      <th>country</th>\n",
       "      <th>draft_year</th>\n",
       "      <th>draft_round</th>\n",
       "      <th>draft_peak</th>\n",
       "      <th>college</th>\n",
       "    </tr>\n",
       "  </thead>\n",
       "  <tbody>\n",
       "    <tr>\n",
       "      <th>0</th>\n",
       "      <td>LeBron James</td>\n",
       "      <td>97</td>\n",
       "      <td>#23</td>\n",
       "      <td>Los Angeles Lakers</td>\n",
       "      <td>F</td>\n",
       "      <td>12/30/84</td>\n",
       "      <td>2.06</td>\n",
       "      <td>113.4</td>\n",
       "      <td>37436858.0</td>\n",
       "      <td>USA</td>\n",
       "      <td>2003</td>\n",
       "      <td>1</td>\n",
       "      <td>1</td>\n",
       "      <td>NaN</td>\n",
       "    </tr>\n",
       "    <tr>\n",
       "      <th>1</th>\n",
       "      <td>Kawhi Leonard</td>\n",
       "      <td>97</td>\n",
       "      <td>#2</td>\n",
       "      <td>Los Angeles Clippers</td>\n",
       "      <td>F</td>\n",
       "      <td>06/29/91</td>\n",
       "      <td>2.01</td>\n",
       "      <td>102.1</td>\n",
       "      <td>32742000.0</td>\n",
       "      <td>USA</td>\n",
       "      <td>2011</td>\n",
       "      <td>1</td>\n",
       "      <td>15</td>\n",
       "      <td>San Diego State</td>\n",
       "    </tr>\n",
       "    <tr>\n",
       "      <th>3</th>\n",
       "      <td>Kevin Durant</td>\n",
       "      <td>96</td>\n",
       "      <td>#7</td>\n",
       "      <td>Brooklyn Nets</td>\n",
       "      <td>F</td>\n",
       "      <td>09/29/88</td>\n",
       "      <td>2.08</td>\n",
       "      <td>104.3</td>\n",
       "      <td>37199000.0</td>\n",
       "      <td>USA</td>\n",
       "      <td>2007</td>\n",
       "      <td>1</td>\n",
       "      <td>2</td>\n",
       "      <td>Texas</td>\n",
       "    </tr>\n",
       "    <tr>\n",
       "      <th>4</th>\n",
       "      <td>James Harden</td>\n",
       "      <td>96</td>\n",
       "      <td>#13</td>\n",
       "      <td>Houston Rockets</td>\n",
       "      <td>G</td>\n",
       "      <td>08/26/89</td>\n",
       "      <td>1.96</td>\n",
       "      <td>99.8</td>\n",
       "      <td>38199000.0</td>\n",
       "      <td>USA</td>\n",
       "      <td>2009</td>\n",
       "      <td>1</td>\n",
       "      <td>3</td>\n",
       "      <td>Arizona State</td>\n",
       "    </tr>\n",
       "    <tr>\n",
       "      <th>5</th>\n",
       "      <td>Stephen Curry</td>\n",
       "      <td>95</td>\n",
       "      <td>#30</td>\n",
       "      <td>Golden State Warriors</td>\n",
       "      <td>G</td>\n",
       "      <td>03/14/88</td>\n",
       "      <td>1.91</td>\n",
       "      <td>83.9</td>\n",
       "      <td>40231758.0</td>\n",
       "      <td>USA</td>\n",
       "      <td>2009</td>\n",
       "      <td>1</td>\n",
       "      <td>7</td>\n",
       "      <td>Davidson</td>\n",
       "    </tr>\n",
       "  </tbody>\n",
       "</table>\n",
       "</div>"
      ],
      "text/plain": [
       "       full_name  rating jersey                   team position     b_day  \\\n",
       "0   LeBron James      97    #23     Los Angeles Lakers        F  12/30/84   \n",
       "1  Kawhi Leonard      97     #2   Los Angeles Clippers        F  06/29/91   \n",
       "3   Kevin Durant      96     #7          Brooklyn Nets        F  09/29/88   \n",
       "4   James Harden      96    #13        Houston Rockets        G  08/26/89   \n",
       "5  Stephen Curry      95    #30  Golden State Warriors        G  03/14/88   \n",
       "\n",
       "   height  weight      salary country  draft_year draft_round draft_peak  \\\n",
       "0    2.06   113.4  37436858.0     USA        2003           1          1   \n",
       "1    2.01   102.1  32742000.0     USA        2011           1         15   \n",
       "3    2.08   104.3  37199000.0     USA        2007           1          2   \n",
       "4    1.96    99.8  38199000.0     USA        2009           1          3   \n",
       "5    1.91    83.9  40231758.0     USA        2009           1          7   \n",
       "\n",
       "           college  \n",
       "0              NaN  \n",
       "1  San Diego State  \n",
       "3            Texas  \n",
       "4    Arizona State  \n",
       "5         Davidson  "
      ]
     },
     "execution_count": 1,
     "metadata": {},
     "output_type": "execute_result"
    }
   ],
   "source": [
    "import pandas as pd\n",
    "\n",
    "bball_df = pd.read_csv('bball.csv')\n",
    "bball_df = bball_df[(bball_df['position'] =='G') | (bball_df['position'] =='F')]\n",
    "\n",
    "bball_df.head()"
   ]
  },
  {
   "attachments": {},
   "cell_type": "markdown",
   "metadata": {},
   "source": [
    "#### Tasks:\n",
    "\n",
    "##### Cross-validate using cross_validate() on the objects X_train and y_train making sure to specify 10 folds and return_train_score=True.\n",
    "##### Convert the scores into a dataframe and save it in an object named scores_df.\n",
    "##### Calculate the mean value of each column and save this in an object named mean_scores.\n",
    "##### Answer the question below."
   ]
  },
  {
   "cell_type": "code",
   "execution_count": 2,
   "metadata": {},
   "outputs": [],
   "source": [
    "import pandas as pd\n",
    "from sklearn.tree import DecisionTreeClassifier\n",
    "from sklearn.model_selection import train_test_split, cross_validate"
   ]
  },
  {
   "attachments": {},
   "cell_type": "markdown",
   "metadata": {},
   "source": [
    "##### Loading in the data"
   ]
  },
  {
   "cell_type": "code",
   "execution_count": 3,
   "metadata": {},
   "outputs": [],
   "source": [
    "bball_df = pd.read_csv('bball.csv')\n",
    "bball_df = bball_df[(bball_df['position'] =='G') | (bball_df['position'] =='F')]"
   ]
  },
  {
   "attachments": {},
   "cell_type": "markdown",
   "metadata": {},
   "source": [
    "##### Define X and y"
   ]
  },
  {
   "cell_type": "code",
   "execution_count": 4,
   "metadata": {},
   "outputs": [],
   "source": [
    "X = bball_df.loc[:, ['height', 'weight', 'salary']]\n",
    "y = bball_df['position']"
   ]
  },
  {
   "attachments": {},
   "cell_type": "markdown",
   "metadata": {},
   "source": [
    "##### Split the dataset"
   ]
  },
  {
   "cell_type": "code",
   "execution_count": 5,
   "metadata": {},
   "outputs": [],
   "source": [
    "X_train, X_test, y_train, y_test = train_test_split(\n",
    "    X, y, test_size=0.2, random_state=31)"
   ]
  },
  {
   "attachments": {},
   "cell_type": "markdown",
   "metadata": {},
   "source": [
    "##### Create a model"
   ]
  },
  {
   "cell_type": "code",
   "execution_count": 6,
   "metadata": {},
   "outputs": [],
   "source": [
    "model = DecisionTreeClassifier()"
   ]
  },
  {
   "attachments": {},
   "cell_type": "markdown",
   "metadata": {},
   "source": [
    "##### Cross validate "
   ]
  },
  {
   "attachments": {},
   "cell_type": "markdown",
   "metadata": {},
   "source": [
    "Cross-validate using cross_validate() on the objects X_train and y_train making sure to specify 10 folds and return_train_score=True."
   ]
  },
  {
   "cell_type": "code",
   "execution_count": 10,
   "metadata": {},
   "outputs": [],
   "source": [
    "cv = cross_validate(model, X_train, y_train, cv = 10, return_train_score=True)"
   ]
  },
  {
   "attachments": {},
   "cell_type": "markdown",
   "metadata": {},
   "source": [
    "##### Covert scores into a dataframe"
   ]
  },
  {
   "attachments": {},
   "cell_type": "markdown",
   "metadata": {},
   "source": [
    "Convert the scores into a dataframe and save it in an object named scores_df"
   ]
  },
  {
   "cell_type": "code",
   "execution_count": 11,
   "metadata": {},
   "outputs": [
    {
     "data": {
      "text/html": [
       "<div>\n",
       "<style scoped>\n",
       "    .dataframe tbody tr th:only-of-type {\n",
       "        vertical-align: middle;\n",
       "    }\n",
       "\n",
       "    .dataframe tbody tr th {\n",
       "        vertical-align: top;\n",
       "    }\n",
       "\n",
       "    .dataframe thead th {\n",
       "        text-align: right;\n",
       "    }\n",
       "</style>\n",
       "<table border=\"1\" class=\"dataframe\">\n",
       "  <thead>\n",
       "    <tr style=\"text-align: right;\">\n",
       "      <th></th>\n",
       "      <th>fit_time</th>\n",
       "      <th>score_time</th>\n",
       "      <th>test_score</th>\n",
       "      <th>train_score</th>\n",
       "    </tr>\n",
       "  </thead>\n",
       "  <tbody>\n",
       "    <tr>\n",
       "      <th>0</th>\n",
       "      <td>0.001737</td>\n",
       "      <td>0.000000</td>\n",
       "      <td>0.880000</td>\n",
       "      <td>1.0</td>\n",
       "    </tr>\n",
       "    <tr>\n",
       "      <th>1</th>\n",
       "      <td>0.004857</td>\n",
       "      <td>0.000000</td>\n",
       "      <td>0.880000</td>\n",
       "      <td>1.0</td>\n",
       "    </tr>\n",
       "    <tr>\n",
       "      <th>2</th>\n",
       "      <td>0.002889</td>\n",
       "      <td>0.000000</td>\n",
       "      <td>0.800000</td>\n",
       "      <td>1.0</td>\n",
       "    </tr>\n",
       "    <tr>\n",
       "      <th>3</th>\n",
       "      <td>0.000000</td>\n",
       "      <td>0.000000</td>\n",
       "      <td>0.880000</td>\n",
       "      <td>1.0</td>\n",
       "    </tr>\n",
       "    <tr>\n",
       "      <th>4</th>\n",
       "      <td>0.000000</td>\n",
       "      <td>0.004268</td>\n",
       "      <td>0.920000</td>\n",
       "      <td>1.0</td>\n",
       "    </tr>\n",
       "    <tr>\n",
       "      <th>5</th>\n",
       "      <td>0.000000</td>\n",
       "      <td>0.000000</td>\n",
       "      <td>0.916667</td>\n",
       "      <td>1.0</td>\n",
       "    </tr>\n",
       "    <tr>\n",
       "      <th>6</th>\n",
       "      <td>0.000000</td>\n",
       "      <td>0.000000</td>\n",
       "      <td>0.791667</td>\n",
       "      <td>1.0</td>\n",
       "    </tr>\n",
       "    <tr>\n",
       "      <th>7</th>\n",
       "      <td>0.010553</td>\n",
       "      <td>0.000000</td>\n",
       "      <td>0.916667</td>\n",
       "      <td>1.0</td>\n",
       "    </tr>\n",
       "    <tr>\n",
       "      <th>8</th>\n",
       "      <td>0.000000</td>\n",
       "      <td>0.004839</td>\n",
       "      <td>0.916667</td>\n",
       "      <td>1.0</td>\n",
       "    </tr>\n",
       "    <tr>\n",
       "      <th>9</th>\n",
       "      <td>0.000000</td>\n",
       "      <td>0.000000</td>\n",
       "      <td>0.916667</td>\n",
       "      <td>1.0</td>\n",
       "    </tr>\n",
       "  </tbody>\n",
       "</table>\n",
       "</div>"
      ],
      "text/plain": [
       "   fit_time  score_time  test_score  train_score\n",
       "0  0.001737    0.000000    0.880000          1.0\n",
       "1  0.004857    0.000000    0.880000          1.0\n",
       "2  0.002889    0.000000    0.800000          1.0\n",
       "3  0.000000    0.000000    0.880000          1.0\n",
       "4  0.000000    0.004268    0.920000          1.0\n",
       "5  0.000000    0.000000    0.916667          1.0\n",
       "6  0.000000    0.000000    0.791667          1.0\n",
       "7  0.010553    0.000000    0.916667          1.0\n",
       "8  0.000000    0.004839    0.916667          1.0\n",
       "9  0.000000    0.000000    0.916667          1.0"
      ]
     },
     "execution_count": 11,
     "metadata": {},
     "output_type": "execute_result"
    }
   ],
   "source": [
    "scores_df = pd.DataFrame(cv)\n",
    "scores_df"
   ]
  },
  {
   "attachments": {},
   "cell_type": "markdown",
   "metadata": {},
   "source": [
    "##### Calculate the mean value of each column"
   ]
  },
  {
   "attachments": {},
   "cell_type": "markdown",
   "metadata": {},
   "source": [
    "Calculate the mean value of each column and save this in an object named mean_scores"
   ]
  },
  {
   "cell_type": "code",
   "execution_count": 14,
   "metadata": {},
   "outputs": [],
   "source": [
    "mean_scores = pd.DataFrame(pd.DataFrame(scores_df).mean())"
   ]
  },
  {
   "attachments": {},
   "cell_type": "markdown",
   "metadata": {},
   "source": [
    "##### Display each score mean value \n",
    "##### Remember that in this case \"test_score\" is actually \"validation\" score"
   ]
  },
  {
   "cell_type": "code",
   "execution_count": 15,
   "metadata": {},
   "outputs": [
    {
     "data": {
      "text/html": [
       "<div>\n",
       "<style scoped>\n",
       "    .dataframe tbody tr th:only-of-type {\n",
       "        vertical-align: middle;\n",
       "    }\n",
       "\n",
       "    .dataframe tbody tr th {\n",
       "        vertical-align: top;\n",
       "    }\n",
       "\n",
       "    .dataframe thead th {\n",
       "        text-align: right;\n",
       "    }\n",
       "</style>\n",
       "<table border=\"1\" class=\"dataframe\">\n",
       "  <thead>\n",
       "    <tr style=\"text-align: right;\">\n",
       "      <th></th>\n",
       "      <th>0</th>\n",
       "    </tr>\n",
       "  </thead>\n",
       "  <tbody>\n",
       "    <tr>\n",
       "      <th>fit_time</th>\n",
       "      <td>0.002004</td>\n",
       "    </tr>\n",
       "    <tr>\n",
       "      <th>score_time</th>\n",
       "      <td>0.000911</td>\n",
       "    </tr>\n",
       "    <tr>\n",
       "      <th>test_score</th>\n",
       "      <td>0.881833</td>\n",
       "    </tr>\n",
       "    <tr>\n",
       "      <th>train_score</th>\n",
       "      <td>1.000000</td>\n",
       "    </tr>\n",
       "  </tbody>\n",
       "</table>\n",
       "</div>"
      ],
      "text/plain": [
       "                    0\n",
       "fit_time     0.002004\n",
       "score_time   0.000911\n",
       "test_score   0.881833\n",
       "train_score  1.000000"
      ]
     },
     "execution_count": 15,
     "metadata": {},
     "output_type": "execute_result"
    }
   ],
   "source": [
    "mean_scores"
   ]
  },
  {
   "attachments": {},
   "cell_type": "markdown",
   "metadata": {},
   "source": [
    "Question\n",
    "Is this model overfitting or underfitting?\n",
    "\n",
    "(A) Overfitting\n",
    "\n",
    "(B) Underfitting"
   ]
  },
  {
   "attachments": {},
   "cell_type": "markdown",
   "metadata": {},
   "source": [
    "Answer: "
   ]
  },
  {
   "cell_type": "markdown",
   "metadata": {},
   "source": [
    "Overfitting"
   ]
  }
 ],
 "metadata": {
  "kernelspec": {
   "display_name": "Python 3",
   "language": "python",
   "name": "python3"
  },
  "language_info": {
   "codemirror_mode": {
    "name": "ipython",
    "version": 3
   },
   "file_extension": ".py",
   "mimetype": "text/x-python",
   "name": "python",
   "nbconvert_exporter": "python",
   "pygments_lexer": "ipython3",
   "version": "3.12.5"
  },
  "orig_nbformat": 4,
  "vscode": {
   "interpreter": {
    "hash": "11938c6bc6919ae2720b4d5011047913343b08a43b18698fd82dedb0d4417594"
   }
  }
 },
 "nbformat": 4,
 "nbformat_minor": 2
}
