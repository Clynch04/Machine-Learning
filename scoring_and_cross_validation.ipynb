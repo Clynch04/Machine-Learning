{
 "cells": [
  {
   "attachments": {},
   "cell_type": "markdown",
   "metadata": {},
   "source": [
    "Instructions:\n",
    "Running a coding exercise for the first time could take a bit of time for everything to load. Be patient, it could take a few minutes.\n",
    "\n",
    "When you see ____ in a coding exercise, replace it with what you assume to be the correct code. Run it and see if you obtain the desired output. Submit your code to validate if you were correct.\n",
    "\n",
    "Make sure you remove the hash (#) symbol in the coding portions of this question. We have commented them so that the line won’t execute and you can test your code after each step.\n",
    "\n",
    "Let’s bring back the Pokémon dataset."
   ]
  },
  {
   "cell_type": "code",
   "execution_count": 1,
   "metadata": {},
   "outputs": [
    {
     "name": "stdout",
     "output_type": "stream",
     "text": [
      "legendary\n",
      "0    405\n",
      "1     43\n",
      "Name: count, dtype: int64\n"
     ]
    }
   ],
   "source": [
    "import pandas as pd\n",
    "from sklearn.model_selection import train_test_split\n",
    "\n",
    "\n",
    "pk_df = pd.read_csv('pokemon.csv')\n",
    "\n",
    "train_df, test_df = train_test_split(pk_df, test_size=0.2, random_state=1)\n",
    "\n",
    "X_train_big = train_df.drop(columns=['legendary'])\n",
    "y_train_big = train_df['legendary']\n",
    "X_test = test_df.drop(columns=['legendary'])\n",
    "y_test = test_df['legendary']\n",
    "\n",
    "X_train, X_valid, y_train, y_valid = train_test_split(X_train_big, \n",
    "                                                      y_train_big, \n",
    "                                                      test_size=0.3, \n",
    "                                                      random_state=123)\n",
    "\n",
    "print(y_train.value_counts())"
   ]
  },
  {
   "attachments": {},
   "cell_type": "markdown",
   "metadata": {},
   "source": [
    "Tasks:\n",
    "\n",
    "Build a pipeline containing the column transformer and an SVC model and set class_weight=\"balanced\" in the SVM classifier. Name this pipeline main_pipe.\n",
    "\n",
    "Perform cross-validation using cross-validate on the training split using the scoring measures accuracy, precision and recall.\n",
    "\n",
    "Save the results in a dataframe named multi_scores.\n"
   ]
  },
  {
   "cell_type": "code",
   "execution_count": 2,
   "metadata": {},
   "outputs": [],
   "source": [
    "import numpy as np\n",
    "import pandas as pd\n",
    "import warnings\n",
    "warnings.simplefilter(action='ignore', category=FutureWarning)\n",
    "from sklearn.model_selection import train_test_split, cross_validate\n",
    "from sklearn.preprocessing import OneHotEncoder, StandardScaler, OrdinalEncoder\n",
    "from sklearn.impute import SimpleImputer\n",
    "from sklearn.compose import ColumnTransformer, make_column_transformer\n",
    "from sklearn.pipeline import Pipeline, make_pipeline\n",
    "from sklearn.svm import SVC"
   ]
  },
  {
   "cell_type": "code",
   "execution_count": 4,
   "metadata": {},
   "outputs": [],
   "source": [
    "# Loading in the data\n",
    "pk_df = pd.read_csv('pokemon.csv')\n",
    "\n",
    "train_df, test_df = train_test_split(pk_df, test_size=0.2, random_state=1)\n",
    "\n",
    "X_train = train_df.drop(columns=['legendary'])\n",
    "y_train = train_df['legendary']\n",
    "X_test = test_df.drop(columns=['legendary'])\n",
    "y_test = test_df['legendary']\n",
    "\n",
    "numeric_features = [\"deck_no\",  \n",
    "                    \"attack\",\n",
    "                    \"defense\" ,\n",
    "                    \"sp_attack\",\n",
    "                    \"sp_defense\",\n",
    "                    \"speed\",\n",
    "                    \"capture_rt\",\n",
    "                    \"total_bs\"]\n",
    "\n",
    "categorical_features = [\"type\"]\n",
    "\n",
    "numeric_transformer = make_pipeline(SimpleImputer(strategy=\"median\"), StandardScaler())\n",
    "\n",
    "categorical_transformer = make_pipeline(\n",
    "    SimpleImputer(strategy=\"most_frequent\"),\n",
    "    OneHotEncoder(handle_unknown=\"ignore\"),\n",
    ")\n",
    "\n",
    "preprocessor = make_column_transformer(\n",
    "    (numeric_transformer, numeric_features), \n",
    "    (categorical_transformer, categorical_features)\n",
    ")"
   ]
  },
  {
   "attachments": {},
   "cell_type": "markdown",
   "metadata": {},
   "source": [
    "Build a pipeline containing the column transformer and an SVC model\n",
    "\n",
    "Use the parameter class_weight=\"balanced\"\n",
    "\n",
    "Name this pipeline main_pipe"
   ]
  },
  {
   "cell_type": "code",
   "execution_count": 5,
   "metadata": {},
   "outputs": [],
   "source": [
    "main_pipe = make_pipeline(preprocessor, SVC(class_weight='balanced'))"
   ]
  },
  {
   "attachments": {},
   "cell_type": "markdown",
   "metadata": {},
   "source": [
    "Perform cross validation on the training split using the scoring measures accuracy, precision and recall \n",
    "\n",
    "Save the results in a dataframe named multi_scores"
   ]
  },
  {
   "cell_type": "code",
   "execution_count": 6,
   "metadata": {},
   "outputs": [
    {
     "data": {
      "text/html": [
       "<div>\n",
       "<style scoped>\n",
       "    .dataframe tbody tr th:only-of-type {\n",
       "        vertical-align: middle;\n",
       "    }\n",
       "\n",
       "    .dataframe tbody tr th {\n",
       "        vertical-align: top;\n",
       "    }\n",
       "\n",
       "    .dataframe thead th {\n",
       "        text-align: right;\n",
       "    }\n",
       "</style>\n",
       "<table border=\"1\" class=\"dataframe\">\n",
       "  <thead>\n",
       "    <tr style=\"text-align: right;\">\n",
       "      <th></th>\n",
       "      <th>fit_time</th>\n",
       "      <th>score_time</th>\n",
       "      <th>test_accuracy</th>\n",
       "      <th>test_precision</th>\n",
       "      <th>test_recall</th>\n",
       "    </tr>\n",
       "  </thead>\n",
       "  <tbody>\n",
       "    <tr>\n",
       "      <th>0</th>\n",
       "      <td>0.022788</td>\n",
       "      <td>0.008018</td>\n",
       "      <td>0.921875</td>\n",
       "      <td>0.500000</td>\n",
       "      <td>0.600000</td>\n",
       "    </tr>\n",
       "    <tr>\n",
       "      <th>1</th>\n",
       "      <td>0.015501</td>\n",
       "      <td>0.010963</td>\n",
       "      <td>0.984375</td>\n",
       "      <td>0.833333</td>\n",
       "      <td>1.000000</td>\n",
       "    </tr>\n",
       "    <tr>\n",
       "      <th>2</th>\n",
       "      <td>0.014204</td>\n",
       "      <td>0.002456</td>\n",
       "      <td>0.921875</td>\n",
       "      <td>0.545455</td>\n",
       "      <td>0.545455</td>\n",
       "    </tr>\n",
       "    <tr>\n",
       "      <th>3</th>\n",
       "      <td>0.014196</td>\n",
       "      <td>0.002140</td>\n",
       "      <td>0.953125</td>\n",
       "      <td>0.647059</td>\n",
       "      <td>1.000000</td>\n",
       "    </tr>\n",
       "    <tr>\n",
       "      <th>4</th>\n",
       "      <td>0.013556</td>\n",
       "      <td>0.008185</td>\n",
       "      <td>0.968750</td>\n",
       "      <td>0.733333</td>\n",
       "      <td>1.000000</td>\n",
       "    </tr>\n",
       "  </tbody>\n",
       "</table>\n",
       "</div>"
      ],
      "text/plain": [
       "   fit_time  score_time  test_accuracy  test_precision  test_recall\n",
       "0  0.022788    0.008018       0.921875        0.500000     0.600000\n",
       "1  0.015501    0.010963       0.984375        0.833333     1.000000\n",
       "2  0.014204    0.002456       0.921875        0.545455     0.545455\n",
       "3  0.014196    0.002140       0.953125        0.647059     1.000000\n",
       "4  0.013556    0.008185       0.968750        0.733333     1.000000"
      ]
     },
     "execution_count": 6,
     "metadata": {},
     "output_type": "execute_result"
    }
   ],
   "source": [
    "multi_scores = pd.DataFrame(cross_validate(main_pipe, X_train, y_train, scoring=('accuracy', 'precision', 'recall')))\n",
    "multi_scores"
   ]
  }
 ],
 "metadata": {
  "kernelspec": {
   "display_name": "Python 3",
   "language": "python",
   "name": "python3"
  },
  "language_info": {
   "codemirror_mode": {
    "name": "ipython",
    "version": 3
   },
   "file_extension": ".py",
   "mimetype": "text/x-python",
   "name": "python",
   "nbconvert_exporter": "python",
   "pygments_lexer": "ipython3",
   "version": "3.12.5"
  },
  "orig_nbformat": 4
 },
 "nbformat": 4,
 "nbformat_minor": 2
}
